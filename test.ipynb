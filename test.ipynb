{
 "cells": [
  {
   "cell_type": "code",
   "execution_count": 158,
   "metadata": {},
   "outputs": [],
   "source": [
    "import pandas as pd\n",
    "import numpy as np\n",
    "\n",
    "df2 = pd.read_csv('tbaprices.csv', header=0)\n",
    "# get rid of stars, get rid of 0s\n",
    "df2.replace('*', '', inplace=True)\n",
    "df2.replace('0', '', inplace=True)\n",
    "df2['Date'] = pd.to_datetime(df2['Date'])\n",
    "\n",
    "# convert coupons to numbs\n",
    "coupons = ['<=2.5', '3', '3.5', '4', '4.5', '5', '>5.0']\n",
    "df2[coupons] = df2[coupons].apply(pd.to_numeric)\n",
    "df2 = df2.replace(np.NaN, '')\n",
    "\n"
   ]
  },
  {
   "cell_type": "code",
   "execution_count": 181,
   "metadata": {},
   "outputs": [
    {
     "data": {
      "text/plain": [
       "Date\n",
       "2019-01-02     99.9\n",
       "2019-01-03    100.1\n",
       "2019-01-04      100\n",
       "2019-01-07     99.9\n",
       "2019-01-08     99.7\n",
       "2019-01-09     99.7\n",
       "2019-01-10     99.7\n",
       "2019-01-11     99.8\n",
       "2019-01-14     99.7\n",
       "2019-01-15     99.7\n",
       "2019-01-16         \n",
       "2019-01-17         \n",
       "2019-01-18         \n",
       "2019-01-22         \n",
       "2019-01-23         \n",
       "2019-01-24         \n",
       "2019-01-25         \n",
       "2019-01-28         \n",
       "2019-01-29         \n",
       "2019-01-30         \n",
       "2019-01-31         \n",
       "2019-02-01     99.9\n",
       "2019-02-04     99.7\n",
       "2019-02-05     99.9\n",
       "2019-02-06     99.9\n",
       "2019-02-07      100\n",
       "2019-02-08      100\n",
       "2019-02-11      100\n",
       "2019-02-12     99.9\n",
       "2019-02-13     99.9\n",
       "              ...  \n",
       "2019-03-19      NaN\n",
       "2019-03-20      NaN\n",
       "2019-03-21      NaN\n",
       "2019-03-22      NaN\n",
       "2019-03-25      NaN\n",
       "2019-03-26      NaN\n",
       "2019-03-27      NaN\n",
       "2019-03-28      NaN\n",
       "2019-03-29      NaN\n",
       "2019-04-01      NaN\n",
       "2019-04-02      NaN\n",
       "2019-04-03      NaN\n",
       "2019-04-04      NaN\n",
       "2019-04-05      NaN\n",
       "2019-04-08      NaN\n",
       "2019-04-09      NaN\n",
       "2019-04-10      NaN\n",
       "2019-04-11      NaN\n",
       "2019-04-12      NaN\n",
       "2019-04-15      NaN\n",
       "2019-04-16      NaN\n",
       "2019-04-17      NaN\n",
       "2019-04-18      NaN\n",
       "2019-04-22      NaN\n",
       "2019-04-23      NaN\n",
       "2019-04-24      NaN\n",
       "2019-04-25      NaN\n",
       "2019-04-26      NaN\n",
       "2019-04-29      NaN\n",
       "2019-04-30      NaN\n",
       "Name: FNMA, Length: 82, dtype: object"
      ]
     },
     "execution_count": 181,
     "metadata": {},
     "output_type": "execute_result"
    }
   ],
   "source": [
    "\n",
    "temp = df2[df2['Measure'] == 'AVERAGE PRICE']\n",
    "temp = temp[temp['AssetClassSubType'] == 'SINGLE FAMILY 15Y']\n",
    "temp = temp[temp['SettlementDateChart'] == 'Current Month']\n",
    "temp = temp.set_index(['Date','Agency']).unstack(level=1)['3']\n",
    "\n",
    "temp['FNMA']"
   ]
  },
  {
   "cell_type": "code",
   "execution_count": 64,
   "metadata": {},
   "outputs": [],
   "source": []
  },
  {
   "cell_type": "code",
   "execution_count": 71,
   "metadata": {},
   "outputs": [],
   "source": []
  },
  {
   "cell_type": "code",
   "execution_count": null,
   "metadata": {},
   "outputs": [],
   "source": []
  }
 ],
 "metadata": {
  "kernelspec": {
   "display_name": "Python 3",
   "language": "python",
   "name": "python3"
  },
  "language_info": {
   "codemirror_mode": {
    "name": "ipython",
    "version": 3
   },
   "file_extension": ".py",
   "mimetype": "text/x-python",
   "name": "python",
   "nbconvert_exporter": "python",
   "pygments_lexer": "ipython3",
   "version": "3.7.2"
  }
 },
 "nbformat": 4,
 "nbformat_minor": 1
}
